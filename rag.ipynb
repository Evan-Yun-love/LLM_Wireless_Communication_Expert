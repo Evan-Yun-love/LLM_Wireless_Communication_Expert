{
 "cells": [
  {
   "cell_type": "code",
   "execution_count": 1,
   "id": "8a143be2",
   "metadata": {},
   "outputs": [
    {
     "name": "stderr",
     "output_type": "stream",
     "text": [
      "/home/lyus4/anaconda3/envs/rag_env/lib/python3.11/site-packages/tqdm/auto.py:21: TqdmWarning: IProgress not found. Please update jupyter and ipywidgets. See https://ipywidgets.readthedocs.io/en/stable/user_install.html\n",
      "  from .autonotebook import tqdm as notebook_tqdm\n"
     ]
    },
    {
     "name": "stdout",
     "output_type": "stream",
     "text": [
      "[2025-06-01 20:56:29,395] [INFO] [real_accelerator.py:254:get_accelerator] Setting ds_accelerator to cuda (auto detect)\n"
     ]
    },
    {
     "name": "stderr",
     "output_type": "stream",
     "text": [
      "/home/lyus4/anaconda3/envs/rag_env/compiler_compat/ld: cannot find -laio: No such file or directory\n",
      "collect2: error: ld returned 1 exit status\n",
      "/home/lyus4/anaconda3/envs/rag_env/compiler_compat/ld: cannot find -lcufile: No such file or directory\n",
      "collect2: error: ld returned 1 exit status\n"
     ]
    }
   ],
   "source": [
    "from langchain_community.document_loaders import PyMuPDFLoader\n",
    "from langchain.text_splitter import RecursiveCharacterTextSplitter \n",
    "from langchain.embeddings import HuggingFaceEmbeddings\n",
    "from langchain.vectorstores import FAISS\n",
    "from transformers import AutoTokenizer, AutoModelForCausalLM, pipeline\n",
    "from langchain.llms import HuggingFacePipeline\n",
    "import re"
   ]
  },
  {
   "cell_type": "code",
   "execution_count": 2,
   "id": "ab70aedd",
   "metadata": {},
   "outputs": [],
   "source": [
    "# 1.加载英文PDF\n",
    "loader = PyMuPDFLoader(\"documents/Fundamentals of Wireless Communication.pdf\", extract_images=True)\n",
    "documents = loader.load()\n",
    "\n",
    "\n",
    "# 2. 定义多条清洗正则\n",
    "clean_patterns = [\n",
    "    # a) 单独一行的纯数字（页码）\n",
    "    re.compile(r\"^\\s*\\d+\\s*$\", re.MULTILINE),\n",
    "    # b) 常见英文页眉页脚\n",
    "    re.compile(r\"Page\\s+\\d+\\s+of\\s+\\d+\", re.IGNORECASE),\n",
    "    # c) 常见中文页眉页脚\n",
    "    re.compile(r\"第\\s*\\d+\\s*页[，,]\\s*共\\s*\\d+\\s*页\"),\n",
    "    # d) 章节号开头，如 \"1. \", \"1.1 \", \"2.3.4 \"\n",
    "    re.compile(r\"^\\s*\\d+(\\.\\d+)*\\s+\", re.MULTILINE),\n",
    "]\n",
    "\n",
    "# 3. 遍历每个 Document，依次应用清洗\n",
    "for doc in documents:\n",
    "    text = doc.page_content\n",
    "\n",
    "    # 应用所有清洗规则\n",
    "    for pat in clean_patterns:\n",
    "        text = pat.sub(\"\", text)\n",
    "\n",
    "    # 合并多余空行\n",
    "    text = re.sub(r\"\\n{2,}\", \"\\n\\n\", text)\n",
    "\n",
    "    doc.page_content = text\n",
    "\n",
    "\n",
    "\n",
    "# 3.切割文本\n",
    "CHUNK_SIZE = 1000\n",
    "OVERLAP_SIZE = 200\n",
    "text_splitter = RecursiveCharacterTextSplitter(\n",
    "    chunk_size=CHUNK_SIZE,\n",
    "    chunk_overlap=OVERLAP_SIZE,\n",
    "    separators=[\n",
    "        \"\\n## \",  # 捕获章节标题\n",
    "        \"\\n### \",\n",
    "        \"\\n#### \",\n",
    "        \"\\n\\n\",\n",
    "        \"\\n\",\n",
    "        \"。 \",\n",
    "        \"! \",\n",
    "        \"? \",\n",
    "        \", \",\n",
    "        \" \"\n",
    "    ]\n",
    ")\n",
    "\n",
    "chunks = text_splitter.split_documents(documents)\n"
   ]
  },
  {
   "cell_type": "code",
   "execution_count": 3,
   "id": "5d083c5e",
   "metadata": {},
   "outputs": [
    {
     "name": "stdout",
     "output_type": "stream",
     "text": [
      "原始文档数量: 644\n",
      "切割后的文本块数量: 2207\n"
     ]
    }
   ],
   "source": [
    "print(f\"原始文档数量: {len(documents)}\")\n",
    "print(f\"切割后的文本块数量: {len(chunks)}\")"
   ]
  },
  {
   "cell_type": "code",
   "execution_count": 4,
   "id": "8738a525",
   "metadata": {},
   "outputs": [
    {
     "name": "stdout",
     "output_type": "stream",
     "text": [
      "(2.8)\n",
      "where λ := c/f is the wavelength of the transmitted sinusoid.\n",
      "The constructive and destructive interference pattern also depends on the frequency\n",
      "f: for a ﬁxed r, if f changes by\n",
      "\n",
      "µ2d −r\n",
      "c\n",
      "−r\n",
      "c\n",
      "¶−1\n",
      ",\n",
      "(2.9)\n",
      "we move from a peak to a valley. The quantity\n",
      "Td := 2d −r\n",
      "c\n",
      "−r\n",
      "c\n",
      "(2.10)\n",
      "is called the delay spread of the channel: it is the diﬀerence between the propagation\n",
      "delays along the two signal paths. Thus, the constructive and destructive interference\n",
      "--------------------\n",
      "Tse and Viswanath: Fundamentals of Wireless Communications\n",
      "\n",
      "pattern changes signiﬁcantly if the frequency changes by an amount of the order of\n",
      "1/Td. This parameter is called the coherence bandwidth.\n",
      "Reﬂecting wall, moving antenna\n",
      "Suppose the receive antenna is now moving at a velocity v (Figure 2.4). As it moves\n",
      "through the pattern of constructive and destructive interference created by the two\n",
      "waves, the strength of the received signal increases and decreases. This is the phe-\n",
      "nomenon of multipath fading. The time taken to travel from a peak to a valley is\n",
      "c/(4fv): this is the time-scale at which the fading occurs, and it is called the coher-\n",
      "ence time of the channel.\n"
     ]
    }
   ],
   "source": [
    "print(chunks[105].page_content)  # 打印第11个文本块的前500个字符\n",
    "print(\"--------------------\")\n",
    "print(chunks[106].page_content)  # 打印第12个文本块的前500个字符"
   ]
  },
  {
   "cell_type": "code",
   "execution_count": 5,
   "id": "178966b7",
   "metadata": {},
   "outputs": [
    {
     "name": "stderr",
     "output_type": "stream",
     "text": [
      "/tmp/ipykernel_3712572/1588966758.py:2: LangChainDeprecationWarning: The class `HuggingFaceEmbeddings` was deprecated in LangChain 0.2.2 and will be removed in 1.0. An updated version of the class exists in the :class:`~langchain-huggingface package and should be used instead. To use it run `pip install -U :class:`~langchain-huggingface` and import as `from :class:`~langchain_huggingface import HuggingFaceEmbeddings``.\n",
      "  embed_model = HuggingFaceEmbeddings(\n",
      "No sentence-transformers model found with name ../all-MiniLM-L6-v2. Creating a new one with mean pooling.\n"
     ]
    }
   ],
   "source": [
    "# 1.加载本地英文嵌入模型\n",
    "embed_model = HuggingFaceEmbeddings(\n",
    "\tmodel_name='../all-MiniLM-L6-v2',\n",
    "\tmodel_kwargs={'device': 'cpu'},\n",
    "\tencode_kwargs={'normalize_embeddings': True}  \n",
    ")\n",
    "\n",
    "# 2.构建本地FAISS库\n",
    "db = FAISS.from_documents(chunks, embed_model)\n",
    "db.save_local('db/faisee_en')\n"
   ]
  },
  {
   "cell_type": "code",
   "execution_count": 6,
   "id": "b0796c55",
   "metadata": {},
   "outputs": [
    {
     "name": "stderr",
     "output_type": "stream",
     "text": [
      "Loading checkpoint shards: 100%|██████████| 2/2 [00:03<00:00,  1.57s/it]\n",
      "We've detected an older driver with an RTX 4000 series GPU. These drivers have issues with P2P. This can affect the multi-gpu inference when using accelerate device_map.Please make sure to update your driver to the latest version which resolves this.\n",
      "Device set to use cuda:0\n",
      "/tmp/ipykernel_3712572/1055922262.py:15: LangChainDeprecationWarning: The class `HuggingFacePipeline` was deprecated in LangChain 0.0.37 and will be removed in 1.0. An updated version of the class exists in the :class:`~langchain-huggingface package and should be used instead. To use it run `pip install -U :class:`~langchain-huggingface` and import as `from :class:`~langchain_huggingface import HuggingFacePipeline``.\n",
      "  llm = HuggingFacePipeline(pipeline=pipe)\n"
     ]
    }
   ],
   "source": [
    "# 1.加载本地deepseek-7b模型\n",
    "model_dir = \"../deepseek-llm-7b-chat\"\n",
    "tok   = AutoTokenizer.from_pretrained(model_dir, trust_remote_code=True)\n",
    "model = AutoModelForCausalLM.from_pretrained(model_dir,\n",
    "                                             trust_remote_code=True,\n",
    "                                             torch_dtype=\"auto\",\n",
    "                                             device_map=\"auto\")\n",
    "pipe = pipeline(\"text-generation\",\n",
    "                model=model,\n",
    "                tokenizer=tok,\n",
    "                max_new_tokens=256,    # 足够即可，不要太大\n",
    "                do_sample=True,\n",
    "\t\t\t\ttemperature=0.1)\n",
    "\n",
    "llm = HuggingFacePipeline(pipeline=pipe)"
   ]
  },
  {
   "cell_type": "code",
   "execution_count": 17,
   "id": "c08bceb6",
   "metadata": {},
   "outputs": [
    {
     "name": "stdout",
     "output_type": "stream",
     "text": [
      "检索到的内容数: {2}\n",
      "[Document(id='86c5713d-87f9-454e-b1d5-125f4feb2acd', metadata={'producer': 'dvipdfm 0.13.2c, Copyright © 1998, by Mark A. Wicks', 'creator': 'TeX output 2004.12.09:1440', 'creationdate': '2004-12-09T14:45:01-08:00', 'source': 'documents/Fundamentals of Wireless Communication.pdf', 'file_path': 'documents/Fundamentals of Wireless Communication.pdf', 'total_pages': 644, 'format': 'PDF 1.2', 'title': '', 'author': '', 'subject': '', 'keywords': '', 'moddate': '2022-05-18T19:26:23+08:00', 'trapped': '', 'modDate': \"D:20220518192623+08'00'\", 'creationDate': \"D:20041209144501-08'00'\", 'page': 211}, page_content='over the ith OFDM block can be written as:\\n˜yn[i] = ˜hn ˜dn[i] + ˜wn[i]\\nn = 0, 1, . . . , Nc −1.\\n(5.33)\\nHere,\\n˜d[i]\\n:=\\n[ ˜d0[i], . . . ˜dNc−1[i]]t,\\n(5.34)\\n˜w[i]\\n:=\\n[ ˜w0[i], . . . ˜wNc−1[i]]t,\\n(5.35)'), Document(id='a4c1ef0b-2bcf-48d8-8229-0eaaf1e2a345', metadata={'producer': 'dvipdfm 0.13.2c, Copyright © 1998, by Mark A. Wicks', 'creator': 'TeX output 2004.12.09:1440', 'creationdate': '2004-12-09T14:45:01-08:00', 'source': 'documents/Fundamentals of Wireless Communication.pdf', 'file_path': 'documents/Fundamentals of Wireless Communication.pdf', 'total_pages': 644, 'format': 'PDF 1.2', 'title': '', 'author': '', 'subject': '', 'keywords': '', 'moddate': '2022-05-18T19:26:23+08:00', 'trapped': '', 'modDate': \"D:20220518192623+08'00'\", 'creationDate': \"D:20041209144501-08'00'\", 'page': 179}, page_content='rate LDPC (low density parity check) code combined with a simple modulation\\nscheme (such as QPSK or 16-QAM) is used to convert the raw information bits\\ninto the 672 OFDM symbols.\\nThe diﬀerent levels of granularity of the traﬃc channels are ideally suited to\\ncarry bursty traﬃc. Indeed, Flash-OFDM is designed to act in a data network\\nwhere it harnessing the statistical multiplexing gains of the user’s bursty data\\ntraﬃc by its packet-switching operation.\\nThe mobiles are in three diﬀerent states in the network. When they are\\ninactive, they go to a “sleep” mode monitoring the base station signal every once\\nin a while: this mode saves power by turning oﬀmost of the mobile device\\nfunctionalities. On the other hand, when the mobile is actively receiving and/or\\nsending data it is in the “ON” mode: this mode requires the network to assign\\nresources to the mobile to perform periodic power control updates and timing and')]\n"
     ]
    }
   ],
   "source": [
    "question =  \"什么是ofdm?\"\n",
    "retriever = db.as_retriever(\n",
    "    search_type=\"mmr\",  # 最大边际相关性，提升多样性\n",
    "    search_kwargs={\"k\": 2, \"fetch_k\": 20}\n",
    ")\n",
    "docs = retriever.invoke(question)\n",
    "print(f\"检索到的内容数:\", {len(docs)})\n",
    "print(docs)\n"
   ]
  },
  {
   "cell_type": "code",
   "execution_count": 8,
   "id": "61740d84",
   "metadata": {},
   "outputs": [],
   "source": [
    "# for i,doc in enumerate(docs):\n",
    "# \tprint(f\"检索到的第{i}个内容：\\n {doc.page_content}\", end = \"\\n--------------------------\\n\")"
   ]
  },
  {
   "cell_type": "code",
   "execution_count": 9,
   "id": "e4587254",
   "metadata": {},
   "outputs": [],
   "source": [
    "from langchain_core.runnables import RunnableLambda\n",
    "\n",
    "def combine_docs(docs):\n",
    "\treturn \"\\n\\n\".join([doc.page_content for doc in docs])\n",
    "\n",
    "combiner = RunnableLambda(combine_docs)\n",
    "retrieval_chain = retriever | combiner\n",
    "\n",
    "# retrieval_chain.invoke(\"numerology是什么?\")\n"
   ]
  },
  {
   "cell_type": "code",
   "execution_count": 23,
   "id": "0185f077",
   "metadata": {},
   "outputs": [],
   "source": [
    "from langchain_core.prompts import PromptTemplate\n",
    "from langchain_core.runnables import RunnablePassthrough, RunnableParallel, RunnableLambda\n",
    "from langchain_core.output_parsers import StrOutputParser\n",
    "\n",
    "# … 省略切分/FAISS/LLM 加载部分 …\n",
    "\n",
    "# 1️⃣ 定义 PromptTemplate 时，务必写上 input_variables\n",
    "template = \"\"\"<|System|>\n",
    "你是一名5G通信专家，请严格按以下要求回答：\n",
    "1. 仅使用提供的上下文\n",
    "2. 用三句话回答，格式：\n",
    "   [定义]...[技术特性]...[应用场景]\n",
    "3. 最后用\"谢谢你的提问！\"结尾\n",
    "\n",
    "<|Context|>\n",
    "{context}\n",
    "\n",
    "<|Question|>\n",
    "{input}\n",
    "\n",
    "<|Response|>\"\"\"\n",
    "\n",
    "prompt = PromptTemplate(\n",
    "    template=template,\n",
    "    input_variables=[\"context\", \"input\"],   # ← 这一行必须加\n",
    ")\n",
    "\n",
    "\n",
    "# 2️⃣ 把 retriever 和输入包装成并行 runnable\n",
    "qa_chain = (\n",
    "    RunnableParallel({\n",
    "        \"input\": RunnablePassthrough(),\n",
    "        \"context\": RunnableLambda(lambda x: x[\"input\"]) | retriever | combiner\n",
    "    })\n",
    "    | prompt\n",
    "    | llm\n",
    "    | StrOutputParser()\n",
    ")\n",
    "\n",
    "# # 3️⃣ 调用时也要传 dict，而不是直接传字符串\n",
    "# result = qa_chain.invoke({\"input\": question_1})\n",
    "# print(\"回答：\", result)\n",
    "# def clean_response(text: str) -> str:\n",
    "#     # 1) 去掉所有上下文标签\n",
    "#     text = text.replace(\"<|System|>\", \"\")\n",
    "#     text = re.sub(r\"<\\|Context\\|>.*<\\|Question\\|>\", \"\", text, flags=re.DOTALL)\n",
    "#     text = text.replace(\"<|Question|>\", \"\")\n",
    "#     text = text.replace(\"<|Response|>\", \"\")\n",
    "#     # 2) 删除多余空行\n",
    "#     text = re.sub(r\"\\n{2,}\", \"\\n\", text).strip()\n",
    "#     return text\n",
    "\n",
    "# qa_chain = qa_chain | RunnableLambda(clean_response)\n"
   ]
  },
  {
   "cell_type": "code",
   "execution_count": 24,
   "id": "1642e0d0",
   "metadata": {},
   "outputs": [
    {
     "name": "stdout",
     "output_type": "stream",
     "text": [
      "\n",
      "问题：什么是OFDM?\n",
      "答案： <|System|>\n",
      "你是一名5G通信专家，请严格按以下要求回答：\n",
      "1. 仅使用提供的上下文\n",
      "2. 用三句话回答，格式：\n",
      "   [定义]...[技术特性]...[应用场景]\n",
      "3. 最后用\"谢谢你的提问！\"结尾\n",
      "\n",
      "<|Context|>\n",
      "over the ith OFDM block can be written as:\n",
      "˜yn[i] = ˜hn ˜dn[i] + ˜wn[i]\n",
      "n = 0, 1, . . . , Nc −1.\n",
      "(5.33)\n",
      "Here,\n",
      "˜d[i]\n",
      ":=\n",
      "[ ˜d0[i], . . . ˜dNc−1[i]]t,\n",
      "(5.34)\n",
      "˜w[i]\n",
      ":=\n",
      "[ ˜w0[i], . . . ˜wNc−1[i]]t,\n",
      "(5.35)\n",
      "\n",
      "rate LDPC (low density parity check) code combined with a simple modulation\n",
      "scheme (such as QPSK or 16-QAM) is used to convert the raw information bits\n",
      "into the 672 OFDM symbols.\n",
      "The diﬀerent levels of granularity of the traﬃc channels are ideally suited to\n",
      "carry bursty traﬃc. Indeed, Flash-OFDM is designed to act in a data network\n",
      "where it harnessing the statistical multiplexing gains of the user’s bursty data\n",
      "traﬃc by its packet-switching operation.\n",
      "The mobiles are in three diﬀerent states in the network. When they are\n",
      "inactive, they go to a “sleep” mode monitoring the base station signal every once\n",
      "in a while: this mode saves power by turning oﬀmost of the mobile device\n",
      "functionalities. On the other hand, when the mobile is actively receiving and/or\n",
      "sending data it is in the “ON” mode: this mode requires the network to assign\n",
      "resources to the mobile to perform periodic power control updates and timing and\n",
      "\n",
      "<|Question|>\n",
      "{'input': '什么是OFDM?'}\n",
      "\n",
      "<|Response|>\n",
      "OFDM（正交频分复用）是一种无线通信技术，它将高速数据流转换为多个并行的低速数据流，每个数据流在不同的频率上进行传输。这种技术可以减少多径衰减的影响，提高通信系统的性能。OFDM常用于无线局域网、无线宽带和5G通信中。\n",
      "--------------------------------------------------\n",
      "\n",
      "问题：什么是频率选择性衰落\n"
     ]
    },
    {
     "name": "stderr",
     "output_type": "stream",
     "text": [
      "You seem to be using the pipelines sequentially on GPU. In order to maximize efficiency please use a dataset\n"
     ]
    },
    {
     "name": "stdout",
     "output_type": "stream",
     "text": [
      "答案： <|System|>\n",
      "你是一名5G通信专家，请严格按以下要求回答：\n",
      "1. 仅使用提供的上下文\n",
      "2. 用三句话回答，格式：\n",
      "   [定义]...[技术特性]...[应用场景]\n",
      "3. 最后用\"谢谢你的提问！\"结尾\n",
      "\n",
      "<|Context|>\n",
      "X\n",
      "k=1\n",
      "HkKxkH∗\n",
      "k\n",
      "!\n",
      ".\n",
      "(10.24)\n",
      "\n",
      "Exercise B.4. Consider a continuous real random variable x with density fx(·) non-\n",
      "zero on the entire real line. Suppose the second moment of x is ﬁxed to be P. Show\n",
      "that among all random variables with the constraints as those on x, the Gaussian\n",
      "random variable has the maximum diﬀerential entropy. Hint: The diﬀerential entropy\n",
      "is a concave function of the density function and ﬁxing the second moment corresponds\n",
      "to a linear constraint on the density function. So, you can use the classical Lagrangian\n",
      "techniques to solve this problem.\n",
      "Exercise B.5. Suppose x is now a nonnegative random variable with density non-zero\n",
      "for all nonnegative real numbers. Further suppose that the mean of x is ﬁxed. Show\n",
      "that among all random variables of this form, the exponential random variable has the\n",
      "maximum diﬀerential entropy.\n",
      "Exercise B.6. In this exercise, we generalize the results in Exercises B.4 and B.5.\n",
      "Consider a continuous real random variable x with density fx(·) on a support set S (i.e.,\n",
      "\n",
      "<|Question|>\n",
      "{'input': '什么是频率选择性衰落'}\n",
      "\n",
      "<|Response|>\n",
      "频率选择性衰落是指在无线通信系统中，由于某些频率成分比其他频率成分更容易受到干扰或衰减，导致信号在传输过程中出现选择性衰减的现象。这种现象可能是由于多种因素引起的，如多径效应、建筑物或障碍物的反射和折射、以及不同频率成分在传播介质中的传播速度不同等。频率选择性衰落可能会影响通信系统的性能，如信号的可靠性和传输速率。\n",
      "--------------------------------------------------\n",
      "\n",
      "问题：什么是MIMO？\n",
      "答案： <|System|>\n",
      "你是一名5G通信专家，请严格按以下要求回答：\n",
      "1. 仅使用提供的上下文\n",
      "2. 用三句话回答，格式：\n",
      "   [定义]...[技术特性]...[应用场景]\n",
      "3. 最后用\"谢谢你的提问！\"结尾\n",
      "\n",
      "<|Context|>\n",
      "word diﬀerence matrix D satisﬁes\n",
      "| det D|2 ≥\n",
      "· 2R.\n",
      "(9.118)\n",
      "Conclude that the code described in (9.116), with the appropriate choice of the angles\n",
      "θ1, θ2 above, is approximately universal for every MIMO channel with two transmit\n",
      "antennas.\n",
      "\n",
      "the capacity of the channel is zero. In particular, the capacity of the i.i.d. Rayleigh\n",
      "slow fading MIMO channel is zero. So we focus on characterizing the ϵ-outage capacity:\n",
      "the largest rate of reliable communication such that the error probability is no more\n",
      "\n",
      "<|Question|>\n",
      "{'input': '什么是MIMO？'}\n",
      "\n",
      "<|Response|>\n",
      "MIMO，即多输入多输出技术，是一种无线通信技术，它允许多个无线电信号同时从一个发射器传输到多个接收器。这种技术可以提高无线通信系统的容量和传输速率。\n",
      "--------------------------------------------------\n"
     ]
    }
   ],
   "source": [
    "questions = [\n",
    "    \"什么是OFDM?\",\n",
    "    \"什么是频率选择性衰落\",\n",
    "    \"什么是MIMO？\"\n",
    "]\n",
    "\n",
    "for q in questions:\n",
    "    print(f\"\\n问题：{q}\")\n",
    "    result = qa_chain.invoke({\"input\": q})  # ✅ 传 dict 而不是字符串\n",
    "    print(\"答案：\", result)\n",
    "    print(\"-\"*50)"
   ]
  },
  {
   "cell_type": "code",
   "execution_count": 12,
   "id": "aaa24a9b",
   "metadata": {},
   "outputs": [
    {
     "name": "stdout",
     "output_type": "stream",
     "text": [
      "\n",
      "问题：什么是OFDM?\n",
      "答案： 什么是OFDM?\n",
      "OFDM（正交频分复用）是一种无线通信技术，它将高速数据流分割成多个较小的子载波，并将它们分配到不同的频率上。每个子载波都使用正交频分复用（OFDM）技术进行调制，以减少多径衰落的影响，提高通信系统的性能。OFDM技术广泛应用于无线通信系统中，如Wi-Fi、WiMAX、LTE和5G等。\n",
      "--------------------------------------------------\n",
      "\n",
      "问题：什么是频率选择性衰落\n",
      "答案： 什么是频率选择性衰落信道？\n",
      "频率选择性衰落信道是指在传输过程中，信号的衰落特性与接收端的频率有关。这种信道通常由多径传播引起，即信号在传输过程中会经过多个路径，每个路径的传播时间可能不同，从而导致信号的衰落。在频率选择性衰落信道中，信号的衰落特性与接收端的频率有关，即在某个频率上衰落，而在其他频率上可能不衰落。这种信道在无线通信中很常见，例如在移动通信中，由于用户的位置变化，信号的衰落特性也会发生变化。\n",
      "--------------------------------------------------\n",
      "\n",
      "问题：什么是MIMO？\n",
      "答案： 什么是MIMO？\n",
      "什么是MIMO？\n",
      "MIMO是“多输入多输出”的缩写，是一种无线通信技术，允许无线设备同时发送和接收多个数据流。MIMO技术通过使用多个天线来增加无线信号的容量和速度。当数据通过多个天线发送时，可以同时发送多个数据流，从而提高数据传输速度和减少延迟。MIMO技术广泛应用于Wi-Fi、蜂窝网络和卫星通信等领域。\n",
      "--------------------------------------------------\n"
     ]
    }
   ],
   "source": [
    "for q in questions:\n",
    "    print(f\"\\n问题：{q}\")\n",
    "    result = llm.invoke(q)  # 直接传入问题字符串\n",
    "    print(\"答案：\", result)\n",
    "    print(\"-\"*50)"
   ]
  },
  {
   "cell_type": "code",
   "execution_count": null,
   "id": "6ab51d3a",
   "metadata": {},
   "outputs": [],
   "source": []
  }
 ],
 "metadata": {
  "kernelspec": {
   "display_name": "rag_env",
   "language": "python",
   "name": "python3"
  },
  "language_info": {
   "codemirror_mode": {
    "name": "ipython",
    "version": 3
   },
   "file_extension": ".py",
   "mimetype": "text/x-python",
   "name": "python",
   "nbconvert_exporter": "python",
   "pygments_lexer": "ipython3",
   "version": "3.11.12"
  }
 },
 "nbformat": 4,
 "nbformat_minor": 5
}
